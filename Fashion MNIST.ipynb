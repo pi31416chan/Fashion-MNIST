{
 "cells": [
  {
   "cell_type": "markdown",
   "id": "b68d56c8-8bbb-40d1-a655-3a409dbb2324",
   "metadata": {},
   "source": [
    "# Fashion MNIST"
   ]
  },
  {
   "cell_type": "markdown",
   "id": "13995edd-3f4f-4cc4-80c1-2149f2741a1a",
   "metadata": {},
   "source": [
    "## Imports"
   ]
  },
  {
   "cell_type": "code",
   "execution_count": 114,
   "id": "79e76bac-8fb5-480d-bed9-db4b1fe26cd2",
   "metadata": {},
   "outputs": [],
   "source": [
    "import tensorflow as tf\n",
    "from tensorflow import keras\n",
    "import numpy as np\n",
    "import pandas as pd\n",
    "import matplotlib.pyplot as plt\n",
    "%matplotlib inline\n",
    "import joblib\n",
    "from datetime import datetime\n",
    "import os"
   ]
  },
  {
   "cell_type": "markdown",
   "id": "35c89c03-4b97-4cc2-9cba-ec7615975c84",
   "metadata": {},
   "source": [
    "## Functions"
   ]
  },
  {
   "cell_type": "code",
   "execution_count": 142,
   "id": "6c7775d0-26ec-4db7-aa10-cb6c0d55fa0b",
   "metadata": {},
   "outputs": [],
   "source": [
    "def dump_keras_model(model,path=\"Trained Models\\\\\",filename=None,yhat=None,scores=None):\n",
    "    '''\n",
    "    FOR Keras Model ONLY.\n",
    "    Dump the objects passed as arguments into .h5 and .pkl file.\n",
    "    '''\n",
    "    try:\n",
    "        os.mkdir(path)\n",
    "    except:\n",
    "        pass\n",
    "    timestamp = datetime.today().strftime(\"%Y-%m-%d_%H-%M-%S\")\n",
    "    # Dump keras model\n",
    "    if not filename: filename = model.name\n",
    "    model.save(filepath=path+timestamp+'_'+filename)\n",
    "    # Dump yhat\n",
    "    if yhat is not None:\n",
    "        joblib.dump(yhat,path+filename+\"_yhat\"+\".pkl\",compress=compress)\n",
    "    # Dump cv scores\n",
    "    if scores is not None:\n",
    "        joblib.dump(scores,path+filename+\"_scores\"+\".pkl\",compress=compress)"
   ]
  },
  {
   "cell_type": "markdown",
   "id": "20a62cc4-ffa7-476a-be74-e05a4cb8b1d0",
   "metadata": {},
   "source": [
    "## Loading the Datasets"
   ]
  },
  {
   "cell_type": "code",
   "execution_count": 9,
   "id": "08b18df9-bb38-44f0-a266-127a73ba0f2c",
   "metadata": {},
   "outputs": [],
   "source": [
    "fashion_mnist = keras.datasets.fashion_mnist\n",
    "(X_train_raw,y_train_raw),(X_test_raw,y_test_raw) = fashion_mnist.load_data()"
   ]
  },
  {
   "cell_type": "code",
   "execution_count": 11,
   "id": "8317bf62-1195-49c4-9887-a71a563e7456",
   "metadata": {},
   "outputs": [
    {
     "data": {
      "text/plain": [
       "((60000, 28, 28), (60000,), (10000, 28, 28), (10000,))"
      ]
     },
     "execution_count": 11,
     "metadata": {},
     "output_type": "execute_result"
    }
   ],
   "source": [
    "X_train_raw.shape,y_train_raw.shape,X_test_raw.shape,y_test_raw.shape"
   ]
  },
  {
   "cell_type": "code",
   "execution_count": 19,
   "id": "38ea09ed-2926-4c5b-b30e-449a860e691f",
   "metadata": {},
   "outputs": [
    {
     "data": {
      "text/plain": [
       "218"
      ]
     },
     "execution_count": 19,
     "metadata": {},
     "output_type": "execute_result"
    }
   ],
   "source": [
    "X_train_raw[0][20][20]"
   ]
  },
  {
   "cell_type": "markdown",
   "id": "7683818f-2845-47ab-b696-8ba87475d412",
   "metadata": {},
   "source": [
    "### Saving the Datasets"
   ]
  },
  {
   "cell_type": "code",
   "execution_count": 22,
   "id": "1c5d8717-7ff3-4814-92d3-920129832659",
   "metadata": {},
   "outputs": [
    {
     "data": {
      "text/plain": [
       "['Datasets\\\\y_test_raw.pkl']"
      ]
     },
     "execution_count": 22,
     "metadata": {},
     "output_type": "execute_result"
    }
   ],
   "source": [
    "joblib.dump(X_train_raw,\"Datasets\\\\X_train_raw.pkl\",compress=9)\n",
    "joblib.dump(y_train_raw,\"Datasets\\\\y_train_raw.pkl\",compress=9)\n",
    "joblib.dump(X_test_raw,\"Datasets\\\\X_test_raw.pkl\",compress=9)\n",
    "joblib.dump(y_test_raw,\"Datasets\\\\y_test_raw.pkl\",compress=9)"
   ]
  },
  {
   "cell_type": "markdown",
   "id": "47b117fe-33f3-4fa9-83ec-853b46e83564",
   "metadata": {},
   "source": [
    "## Splitting the Datasets"
   ]
  },
  {
   "cell_type": "code",
   "execution_count": 23,
   "id": "eb1df0fa-d003-43be-8c10-6af67e3250c8",
   "metadata": {},
   "outputs": [],
   "source": [
    "X_valid,X_train = X_train_raw[:5000]/255,X_train_raw[5000:]/255\n",
    "y_valid,y_train = y_train_raw[:5000],y_train_raw[5000:]"
   ]
  },
  {
   "cell_type": "markdown",
   "id": "e64baa8b-852e-44f3-88a6-b58f2c8f97de",
   "metadata": {},
   "source": [
    "## Visualization the classes"
   ]
  },
  {
   "cell_type": "code",
   "execution_count": 34,
   "id": "3ea2c95e-5061-4a69-bb97-9be5582b76f5",
   "metadata": {},
   "outputs": [
    {
     "data": {
      "image/png": "[encoded data removed]",
      "text/plain": [
       "<Figure size 1800x200 with 10 Axes>"
      ]
     },
     "metadata": {},
     "output_type": "display_data"
    }
   ],
   "source": [
    "fig,axs = plt.subplots(1,10,figsize=(18,2),facecolor='w',tight_layout=True)\n",
    "\n",
    "for label,ax in zip(np.unique(y_train_raw),axs):\n",
    "    mask = (y_train_raw == label)\n",
    "    img_to_plot = X_train_raw[mask][0]\n",
    "    ax.imshow(img_to_plot,cmap='Greys')\n",
    "    ax.set(xticks=[],yticks=[])  \n",
    "plt.show()"
   ]
  },
  {
   "cell_type": "code",
   "execution_count": 35,
   "id": "dd92d2d0-15cd-4e82-b8cd-11373a338140",
   "metadata": {},
   "outputs": [],
   "source": [
    "class_names = ['T-shirt/top','Trouser','Pullover','Dress','Coat','Sandal','Shirt','Sneaker','Bag','Ankle boot']"
   ]
  },
  {
   "cell_type": "code",
   "execution_count": 36,
   "id": "0022ab55-697f-4620-a7e7-941dd7da9e5d",
   "metadata": {},
   "outputs": [
    {
     "data": {
      "text/plain": [
       "'Coat'"
      ]
     },
     "execution_count": 36,
     "metadata": {},
     "output_type": "execute_result"
    }
   ],
   "source": [
    "class_names[y_train[0]]"
   ]
  },
  {
   "cell_type": "markdown",
   "id": "15798141-ae32-4efd-893c-b9e88739519b",
   "metadata": {},
   "source": [
    "## Creating MLP Model"
   ]
  },
  {
   "cell_type": "code",
   "execution_count": 37,
   "id": "45b26f80-8aa8-469b-a80f-1bd3b108354a",
   "metadata": {},
   "outputs": [],
   "source": [
    "model = keras.models.Sequential([\n",
    "    keras.layers.Flatten(input_shape=(28,28)),\n",
    "    keras.layers.Dense(300,activation='relu'),\n",
    "    keras.layers.Dense(100,activation='relu'),\n",
    "    keras.layers.Dense(10,activation='softmax'),\n",
    "])"
   ]
  },
  {
   "cell_type": "code",
   "execution_count": 41,
   "id": "201adc1a-2a0b-4a9f-8a09-f38032d1c0d7",
   "metadata": {},
   "outputs": [
    {
     "name": "stdout",
     "output_type": "stream",
     "text": [
      "Model: \"sequential\"\n",
      "_________________________________________________________________\n",
      " Layer (type)                Output Shape              Param #   \n",
      "=================================================================\n",
      " flatten (Flatten)           (None, 784)               0         \n",
      "                                                                 \n",
      " dense (Dense)               (None, 300)               235500    \n",
      "                                                                 \n",
      " dense_1 (Dense)             (None, 100)               30100     \n",
      "                                                                 \n",
      " dense_2 (Dense)             (None, 10)                1010      \n",
      "                                                                 \n",
      "=================================================================\n",
      "Total params: 266,610\n",
      "Trainable params: 266,610\n",
      "Non-trainable params: 0\n",
      "_________________________________________________________________\n"
     ]
    }
   ],
   "source": [
    "model.summary()"
   ]
  },
  {
   "cell_type": "code",
   "execution_count": 45,
   "id": "e3e222c7-3d2f-40ff-9a43-1be8098370fb",
   "metadata": {},
   "outputs": [
    {
     "name": "stdout",
     "output_type": "stream",
     "text": [
      "flatten\n",
      "dense\n",
      "dense_1\n",
      "dense_2\n"
     ]
    }
   ],
   "source": [
    "[print(layer.name) for layer in model.layers];"
   ]
  },
  {
   "cell_type": "code",
   "execution_count": 46,
   "id": "9a816f59-3f91-427d-b0f6-18b076d3a810",
   "metadata": {},
   "outputs": [],
   "source": [
    "hidden1 = model.layers[1]"
   ]
  },
  {
   "cell_type": "code",
   "execution_count": 47,
   "id": "93828d35-2c0a-47cd-b6e6-99867bb56ba4",
   "metadata": {},
   "outputs": [],
   "source": [
    "hidden1_weights,hidden1_biases = hidden1.get_weights()"
   ]
  },
  {
   "cell_type": "code",
   "execution_count": 48,
   "id": "e24ede6e-0d44-42e4-a295-6e9a7005c84a",
   "metadata": {},
   "outputs": [
    {
     "data": {
      "text/plain": [
       "(array([[ 0.06498937,  0.05214766,  0.03527758, ..., -0.00903869,\n",
       "          0.03772631,  0.03320682],\n",
       "        [-0.0115306 ,  0.03260753, -0.04416069, ..., -0.05374807,\n",
       "          0.04033808,  0.07033283],\n",
       "        [-0.02088022, -0.03008883, -0.02647685, ...,  0.03207753,\n",
       "          0.05423865,  0.06380297],\n",
       "        ...,\n",
       "        [ 0.03601865,  0.03935643, -0.06725472, ...,  0.0086787 ,\n",
       "         -0.04731528,  0.06544115],\n",
       "        [-0.00841468,  0.0397652 ,  0.04542952, ...,  0.00759975,\n",
       "          0.03153352,  0.02318063],\n",
       "        [ 0.05796784,  0.01475143,  0.03543252, ...,  0.04410317,\n",
       "         -0.04223649,  0.01798294]], dtype=float32),\n",
       " (784, 300))"
      ]
     },
     "execution_count": 48,
     "metadata": {},
     "output_type": "execute_result"
    }
   ],
   "source": [
    "hidden1_weights,hidden1_weights.shape"
   ]
  },
  {
   "cell_type": "code",
   "execution_count": 49,
   "id": "ee60f8c6-a708-4122-9eeb-57d422e36784",
   "metadata": {},
   "outputs": [
    {
     "data": {
      "text/plain": [
       "(array([0., 0., 0., 0., 0., 0., 0., 0., 0., 0., 0., 0., 0., 0., 0., 0., 0.,\n",
       "        0., 0., 0., 0., 0., 0., 0., 0., 0., 0., 0., 0., 0., 0., 0., 0., 0.,\n",
       "        0., 0., 0., 0., 0., 0., 0., 0., 0., 0., 0., 0., 0., 0., 0., 0., 0.,\n",
       "        0., 0., 0., 0., 0., 0., 0., 0., 0., 0., 0., 0., 0., 0., 0., 0., 0.,\n",
       "        0., 0., 0., 0., 0., 0., 0., 0., 0., 0., 0., 0., 0., 0., 0., 0., 0.,\n",
       "        0., 0., 0., 0., 0., 0., 0., 0., 0., 0., 0., 0., 0., 0., 0., 0., 0.,\n",
       "        0., 0., 0., 0., 0., 0., 0., 0., 0., 0., 0., 0., 0., 0., 0., 0., 0.,\n",
       "        0., 0., 0., 0., 0., 0., 0., 0., 0., 0., 0., 0., 0., 0., 0., 0., 0.,\n",
       "        0., 0., 0., 0., 0., 0., 0., 0., 0., 0., 0., 0., 0., 0., 0., 0., 0.,\n",
       "        0., 0., 0., 0., 0., 0., 0., 0., 0., 0., 0., 0., 0., 0., 0., 0., 0.,\n",
       "        0., 0., 0., 0., 0., 0., 0., 0., 0., 0., 0., 0., 0., 0., 0., 0., 0.,\n",
       "        0., 0., 0., 0., 0., 0., 0., 0., 0., 0., 0., 0., 0., 0., 0., 0., 0.,\n",
       "        0., 0., 0., 0., 0., 0., 0., 0., 0., 0., 0., 0., 0., 0., 0., 0., 0.,\n",
       "        0., 0., 0., 0., 0., 0., 0., 0., 0., 0., 0., 0., 0., 0., 0., 0., 0.,\n",
       "        0., 0., 0., 0., 0., 0., 0., 0., 0., 0., 0., 0., 0., 0., 0., 0., 0.,\n",
       "        0., 0., 0., 0., 0., 0., 0., 0., 0., 0., 0., 0., 0., 0., 0., 0., 0.,\n",
       "        0., 0., 0., 0., 0., 0., 0., 0., 0., 0., 0., 0., 0., 0., 0., 0., 0.,\n",
       "        0., 0., 0., 0., 0., 0., 0., 0., 0., 0., 0.], dtype=float32),\n",
       " (300,))"
      ]
     },
     "execution_count": 49,
     "metadata": {},
     "output_type": "execute_result"
    }
   ],
   "source": [
    "hidden1_biases,hidden1_biases.shape"
   ]
  },
  {
   "cell_type": "code",
   "execution_count": 50,
   "id": "3acf059f-634b-48b0-96a5-1d2b17dfd15d",
   "metadata": {},
   "outputs": [],
   "source": [
    "model.compile(loss='sparse_categorical_crossentropy',\n",
    "              optimizer='sgd',\n",
    "              metrics=['accuracy'])"
   ]
  },
  {
   "cell_type": "markdown",
   "id": "0a5d5f19-a56f-4af9-ab8c-d6769c6ef927",
   "metadata": {},
   "source": [
    "## Train the MLP model"
   ]
  },
  {
   "cell_type": "code",
   "execution_count": 51,
   "id": "824330e3-ffa3-4628-af18-e90ca4e7eed8",
   "metadata": {
    "scrolled": true,
    "tags": []
   },
   "outputs": [
    {
     "name": "stdout",
     "output_type": "stream",
     "text": [
      "Epoch 1/30\n",
      "1719/1719 [==============================] - 4s 2ms/step - loss: 0.7085 - accuracy: 0.7692 - val_loss: 0.4961 - val_accuracy: 0.8360\n",
      "Epoch 2/30\n",
      "1719/1719 [==============================] - 4s 2ms/step - loss: 0.4826 - accuracy: 0.8322 - val_loss: 0.4261 - val_accuracy: 0.8576\n",
      "Epoch 3/30\n",
      "1719/1719 [==============================] - 4s 2ms/step - loss: 0.4396 - accuracy: 0.8468 - val_loss: 0.4199 - val_accuracy: 0.8594\n",
      "Epoch 4/30\n",
      "1719/1719 [==============================] - 3s 2ms/step - loss: 0.4108 - accuracy: 0.8559 - val_loss: 0.3925 - val_accuracy: 0.8608\n",
      "Epoch 5/30\n",
      "1719/1719 [==============================] - 4s 2ms/step - loss: 0.3927 - accuracy: 0.8623 - val_loss: 0.3749 - val_accuracy: 0.8730\n",
      "Epoch 6/30\n",
      "1719/1719 [==============================] - 4s 2ms/step - loss: 0.3757 - accuracy: 0.8671 - val_loss: 0.3917 - val_accuracy: 0.8586\n",
      "Epoch 7/30\n",
      "1719/1719 [==============================] - 4s 2ms/step - loss: 0.3632 - accuracy: 0.8724 - val_loss: 0.3593 - val_accuracy: 0.8754\n",
      "Epoch 8/30\n",
      "1719/1719 [==============================] - 4s 2ms/step - loss: 0.3508 - accuracy: 0.8761 - val_loss: 0.3486 - val_accuracy: 0.8776\n",
      "Epoch 9/30\n",
      "1719/1719 [==============================] - 4s 2ms/step - loss: 0.3414 - accuracy: 0.8775 - val_loss: 0.3642 - val_accuracy: 0.8718\n",
      "Epoch 10/30\n",
      "1719/1719 [==============================] - 4s 2ms/step - loss: 0.3331 - accuracy: 0.8821 - val_loss: 0.3602 - val_accuracy: 0.8742\n",
      "Epoch 11/30\n",
      "1719/1719 [==============================] - 4s 2ms/step - loss: 0.3247 - accuracy: 0.8840 - val_loss: 0.3383 - val_accuracy: 0.8790\n",
      "Epoch 12/30\n",
      "1719/1719 [==============================] - 4s 2ms/step - loss: 0.3166 - accuracy: 0.8869 - val_loss: 0.3266 - val_accuracy: 0.8832\n",
      "Epoch 13/30\n",
      "1719/1719 [==============================] - 4s 2ms/step - loss: 0.3095 - accuracy: 0.8900 - val_loss: 0.3266 - val_accuracy: 0.8842\n",
      "Epoch 14/30\n",
      "1719/1719 [==============================] - 4s 2ms/step - loss: 0.3032 - accuracy: 0.8917 - val_loss: 0.3301 - val_accuracy: 0.8804\n",
      "Epoch 15/30\n",
      "1719/1719 [==============================] - 4s 2ms/step - loss: 0.2967 - accuracy: 0.8932 - val_loss: 0.3286 - val_accuracy: 0.8858\n",
      "Epoch 16/30\n",
      "1719/1719 [==============================] - 4s 2ms/step - loss: 0.2899 - accuracy: 0.8961 - val_loss: 0.3175 - val_accuracy: 0.8856\n",
      "Epoch 17/30\n",
      "1719/1719 [==============================] - 4s 2ms/step - loss: 0.2850 - accuracy: 0.8970 - val_loss: 0.3100 - val_accuracy: 0.8886\n",
      "Epoch 18/30\n",
      "1719/1719 [==============================] - 4s 2ms/step - loss: 0.2790 - accuracy: 0.8990 - val_loss: 0.3077 - val_accuracy: 0.8898\n",
      "Epoch 19/30\n",
      "1719/1719 [==============================] - 3s 2ms/step - loss: 0.2733 - accuracy: 0.9019 - val_loss: 0.3070 - val_accuracy: 0.8886\n",
      "Epoch 20/30\n",
      "1719/1719 [==============================] - 3s 2ms/step - loss: 0.2686 - accuracy: 0.9027 - val_loss: 0.3131 - val_accuracy: 0.8852\n",
      "Epoch 21/30\n",
      "1719/1719 [==============================] - 4s 2ms/step - loss: 0.2647 - accuracy: 0.9043 - val_loss: 0.2972 - val_accuracy: 0.8908\n",
      "Epoch 22/30\n",
      "1719/1719 [==============================] - 3s 2ms/step - loss: 0.2603 - accuracy: 0.9060 - val_loss: 0.3077 - val_accuracy: 0.8880\n",
      "Epoch 23/30\n",
      "1719/1719 [==============================] - 4s 2ms/step - loss: 0.2550 - accuracy: 0.9084 - val_loss: 0.3100 - val_accuracy: 0.8894\n",
      "Epoch 24/30\n",
      "1719/1719 [==============================] - 3s 2ms/step - loss: 0.2513 - accuracy: 0.9103 - val_loss: 0.2997 - val_accuracy: 0.8908\n",
      "Epoch 25/30\n",
      "1719/1719 [==============================] - 3s 2ms/step - loss: 0.2468 - accuracy: 0.9106 - val_loss: 0.3194 - val_accuracy: 0.8820\n",
      "Epoch 26/30\n",
      "1719/1719 [==============================] - 3s 2ms/step - loss: 0.2433 - accuracy: 0.9119 - val_loss: 0.2933 - val_accuracy: 0.8908\n",
      "Epoch 27/30\n",
      "1719/1719 [==============================] - 3s 2ms/step - loss: 0.2390 - accuracy: 0.9144 - val_loss: 0.3011 - val_accuracy: 0.8922\n",
      "Epoch 28/30\n",
      "1719/1719 [==============================] - 3s 2ms/step - loss: 0.2341 - accuracy: 0.9146 - val_loss: 0.3030 - val_accuracy: 0.8944\n",
      "Epoch 29/30\n",
      "1719/1719 [==============================] - 3s 2ms/step - loss: 0.2305 - accuracy: 0.9159 - val_loss: 0.2997 - val_accuracy: 0.8936\n",
      "Epoch 30/30\n",
      "1719/1719 [==============================] - 3s 2ms/step - loss: 0.2274 - accuracy: 0.9174 - val_loss: 0.2863 - val_accuracy: 0.8934\n"
     ]
    }
   ],
   "source": [
    "history = model.fit(X_train,y_train,epochs=30,validation_data=(X_valid,y_valid))"
   ]
  },
  {
   "cell_type": "markdown",
   "id": "38f12e26-8c37-4fb9-950a-69472bf86afd",
   "metadata": {},
   "source": [
    "### Learning Curve"
   ]
  },
  {
   "cell_type": "code",
   "execution_count": 61,
   "id": "7756554e-e9e4-40f1-aa32-7e9e5397c637",
   "metadata": {},
   "outputs": [
    {
     "data": {
      "image/png": "[encoded data removed]",
      "text/plain": [
       "<Figure size 640x480 with 1 Axes>"
      ]
     },
     "metadata": {},
     "output_type": "display_data"
    }
   ],
   "source": [
    "pd.DataFrame(history.history).plot(title=\"MLP Model Learning Curve\",\n",
    "                                   xlabel=\"epoch\",ylabel=\"accuracy/loss\")\n",
    "plt.show()"
   ]
  },
  {
   "cell_type": "code",
   "execution_count": 63,
   "id": "3173a998-bdc9-4f57-92b6-aaa27e1902b8",
   "metadata": {},
   "outputs": [
    {
     "name": "stdout",
     "output_type": "stream",
     "text": [
      "Epoch 1/10\n",
      "1719/1719 [==============================] - 4s 2ms/step - loss: 0.2243 - accuracy: 0.9181 - val_loss: 0.2893 - val_accuracy: 0.8950\n",
      "Epoch 2/10\n",
      "1719/1719 [==============================] - 4s 2ms/step - loss: 0.2199 - accuracy: 0.9208 - val_loss: 0.2967 - val_accuracy: 0.8920\n",
      "Epoch 3/10\n",
      "1719/1719 [==============================] - 3s 2ms/step - loss: 0.2164 - accuracy: 0.9219 - val_loss: 0.2877 - val_accuracy: 0.8938\n",
      "Epoch 4/10\n",
      "1719/1719 [==============================] - 4s 2ms/step - loss: 0.2142 - accuracy: 0.9221 - val_loss: 0.2929 - val_accuracy: 0.8930\n",
      "Epoch 5/10\n",
      "1719/1719 [==============================] - 4s 2ms/step - loss: 0.2092 - accuracy: 0.9241 - val_loss: 0.3122 - val_accuracy: 0.8852\n",
      "Epoch 6/10\n",
      "1719/1719 [==============================] - 4s 2ms/step - loss: 0.2063 - accuracy: 0.9257 - val_loss: 0.2809 - val_accuracy: 0.8946\n",
      "Epoch 7/10\n",
      "1719/1719 [==============================] - 4s 2ms/step - loss: 0.2028 - accuracy: 0.9271 - val_loss: 0.3039 - val_accuracy: 0.8950\n",
      "Epoch 8/10\n",
      "1719/1719 [==============================] - 4s 2ms/step - loss: 0.2002 - accuracy: 0.9289 - val_loss: 0.2962 - val_accuracy: 0.8926\n",
      "Epoch 9/10\n",
      "1719/1719 [==============================] - 4s 2ms/step - loss: 0.1961 - accuracy: 0.9284 - val_loss: 0.2841 - val_accuracy: 0.8946\n",
      "Epoch 10/10\n",
      "1719/1719 [==============================] - 4s 2ms/step - loss: 0.1931 - accuracy: 0.9305 - val_loss: 0.2884 - val_accuracy: 0.8980\n"
     ]
    },
    {
     "data": {
      "text/plain": [
       "<keras.callbacks.History at 0x2435b67e800>"
      ]
     },
     "execution_count": 63,
     "metadata": {},
     "output_type": "execute_result"
    }
   ],
   "source": [
    "model.fit(X_train,y_train,epochs=10,validation_data=(X_valid,y_valid))"
   ]
  },
  {
   "cell_type": "code",
   "execution_count": 90,
   "id": "228a9b37-33b0-4863-b598-7d097f76a757",
   "metadata": {},
   "outputs": [],
   "source": [
    "X_test = X_test_raw/255"
   ]
  },
  {
   "cell_type": "code",
   "execution_count": 91,
   "id": "0e36fefe-0fe5-4990-bba5-4424b137013a",
   "metadata": {},
   "outputs": [
    {
     "name": "stdout",
     "output_type": "stream",
     "text": [
      "313/313 [==============================] - 0s 1ms/step - loss: 0.3309 - accuracy: 0.8834\n"
     ]
    },
    {
     "data": {
      "text/plain": [
       "[0.330851674079895, 0.883400022983551]"
      ]
     },
     "execution_count": 91,
     "metadata": {},
     "output_type": "execute_result"
    }
   ],
   "source": [
    "model.evaluate(X_test,y_test_raw)"
   ]
  },
  {
   "cell_type": "markdown",
   "id": "0c62e0b1-3292-4f51-8d84-22d1155363e2",
   "metadata": {},
   "source": [
    "## Predictions"
   ]
  },
  {
   "cell_type": "code",
   "execution_count": 93,
   "id": "b8205dc4-844d-49e8-903b-603e908216f6",
   "metadata": {},
   "outputs": [
    {
     "name": "stdout",
     "output_type": "stream",
     "text": [
      "1/1 [==============================] - 0s 18ms/step\n"
     ]
    },
    {
     "data": {
      "text/plain": [
       "array([[0.  , 0.  , 0.  , 0.  , 0.  , 0.  , 0.  , 0.01, 0.  , 0.99],\n",
       "       [0.  , 0.  , 1.  , 0.  , 0.  , 0.  , 0.  , 0.  , 0.  , 0.  ],\n",
       "       [0.  , 1.  , 0.  , 0.  , 0.  , 0.  , 0.  , 0.  , 0.  , 0.  ],\n",
       "       [0.  , 1.  , 0.  , 0.  , 0.  , 0.  , 0.  , 0.  , 0.  , 0.  ],\n",
       "       [0.27, 0.  , 0.01, 0.  , 0.  , 0.  , 0.72, 0.  , 0.  , 0.  ]],\n",
       "      dtype=float32)"
      ]
     },
     "execution_count": 93,
     "metadata": {},
     "output_type": "execute_result"
    }
   ],
   "source": [
    "X_new = X_test[:5]\n",
    "y_proba = model.predict(X_new).round(2)\n",
    "y_proba"
   ]
  },
  {
   "cell_type": "code",
   "execution_count": 94,
   "id": "6db448c0-21c3-44dc-a608-36b3272aa794",
   "metadata": {},
   "outputs": [
    {
     "data": {
      "text/plain": [
       "array([9, 2, 1, 1, 6], dtype=int64)"
      ]
     },
     "execution_count": 94,
     "metadata": {},
     "output_type": "execute_result"
    }
   ],
   "source": [
    "y_pred = np.argmax(y_proba,axis=1)\n",
    "y_pred"
   ]
  },
  {
   "cell_type": "code",
   "execution_count": 100,
   "id": "d2cf9cae-6d88-4060-a8c3-0816d17567ff",
   "metadata": {},
   "outputs": [
    {
     "data": {
      "text/plain": [
       "array(['Ankle boot', 'Pullover', 'Trouser', 'Trouser', 'Shirt'],\n",
       "      dtype='<U11')"
      ]
     },
     "execution_count": 100,
     "metadata": {},
     "output_type": "execute_result"
    }
   ],
   "source": [
    "y_pred_translated = np.array(class_names)[y_pred]\n",
    "y_pred_translated"
   ]
  },
  {
   "cell_type": "code",
   "execution_count": 103,
   "id": "fcd2ece8-6b75-4aa3-829d-5358efc455e6",
   "metadata": {},
   "outputs": [
    {
     "data": {
      "image/png": "[encoded data removed]",
      "text/plain": [
       "<Figure size 800x200 with 5 Axes>"
      ]
     },
     "metadata": {},
     "output_type": "display_data"
    }
   ],
   "source": [
    "fig,axs = plt.subplots(1,5,figsize=(8,2),tight_layout=True,facecolor='w')\n",
    "\n",
    "for ax,x,label in zip(axs,X_new,y_pred_translated):\n",
    "    ax.imshow(x,cmap='Greys')\n",
    "    ax.text(14,28,label,ha='center',va='top')\n",
    "    ax.set(xticks=[],yticks=[])"
   ]
  },
  {
   "cell_type": "markdown",
   "id": "0358bdec-487d-4e0a-9fd1-ff22348a0572",
   "metadata": {},
   "source": [
    "## Saving the Trained MLP Model"
   ]
  },
  {
   "cell_type": "code",
   "execution_count": 143,
   "id": "49540604-c880-4fcd-a78c-c01bd5834548",
   "metadata": {},
   "outputs": [
    {
     "name": "stdout",
     "output_type": "stream",
     "text": [
      "INFO:tensorflow:Assets written to: Trained Models\\2022-08-27_23-58-03_sequential\\assets\n"
     ]
    }
   ],
   "source": [
    "dump_keras_model(model)"
   ]
  }
 ],
 "metadata": {
  "kernelspec": {
   "display_name": "TensorFlow",
   "language": "python",
   "name": "tensorflow"
  },
  "language_info": {
   "codemirror_mode": {
    "name": "ipython",
    "version": 3
   },
   "file_extension": ".py",
   "mimetype": "text/x-python",
   "name": "python",
   "nbconvert_exporter": "python",
   "pygments_lexer": "ipython3",
   "version": "3.10.3"
  }
 },
 "nbformat": 4,
 "nbformat_minor": 5
}
