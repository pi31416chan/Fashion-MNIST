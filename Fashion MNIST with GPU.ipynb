{
 "cells": [
  {
   "cell_type": "markdown",
   "id": "13f0ea2f-2da7-4fdb-bc5f-f08acc70978a",
   "metadata": {},
   "source": [
    "## Fashion MNIST with GPU"
   ]
  },
  {
   "cell_type": "code",
   "execution_count": 6,
   "id": "a2644f26-10ee-4f65-b73b-c4a47ae226ef",
   "metadata": {},
   "outputs": [],
   "source": [
    "import tensorflow as tf\n",
    "from tensorflow import keras\n",
    "import joblib"
   ]
  },
  {
   "cell_type": "code",
   "execution_count": 2,
   "id": "864b17f2-06a8-40e6-8e63-73fe372047fb",
   "metadata": {},
   "outputs": [
    {
     "data": {
      "text/plain": [
       "[PhysicalDevice(name='/physical_device:CPU:0', device_type='CPU'),\n",
       " PhysicalDevice(name='/physical_device:GPU:0', device_type='GPU')]"
      ]
     },
     "execution_count": 2,
     "metadata": {},
     "output_type": "execute_result"
    }
   ],
   "source": [
    "tf.config.get_visible_devices()"
   ]
  },
  {
   "cell_type": "code",
   "execution_count": 8,
   "id": "a40f8d97-f9a2-4f64-9854-d972c145f616",
   "metadata": {},
   "outputs": [],
   "source": [
    "X_train_raw = joblib.load(\"Datasets\\\\Raw Data\\\\X_train_raw.pkl\")\n",
    "y_train_raw = joblib.load(\"Datasets\\\\Raw Data\\\\y_train_raw.pkl\")"
   ]
  },
  {
   "cell_type": "code",
   "execution_count": 9,
   "id": "d9495b62-e8fa-4270-8ace-a7b94e8eb099",
   "metadata": {},
   "outputs": [],
   "source": [
    "X_valid,X_train = X_train_raw[:5000]/255,X_train_raw[5000:]/255\n",
    "y_valid,y_train = y_train_raw[:5000],y_train_raw[5000:]"
   ]
  },
  {
   "cell_type": "code",
   "execution_count": 42,
   "id": "c75e9062-44a4-440f-a0ba-0680a23696f7",
   "metadata": {},
   "outputs": [],
   "source": [
    "model = keras.models.Sequential([\n",
    "    keras.layers.Flatten(input_shape=(28,28)),\n",
    "    keras.layers.Dense(300,activation='relu'),\n",
    "    keras.layers.Dense(100,activation='relu'),\n",
    "    keras.layers.Dense(10,activation='softmax'),\n",
    "])"
   ]
  },
  {
   "cell_type": "markdown",
   "id": "cb0bed79-3eb6-4446-9d7c-1a3dfd5814ac",
   "metadata": {},
   "source": [
    "We need to set the learning rate higher to compensate the drop in accuracy due to larger batch size."
   ]
  },
  {
   "cell_type": "code",
   "execution_count": 56,
   "id": "9c86e710-fab0-47ad-aa25-70c5ffa2a676",
   "metadata": {},
   "outputs": [],
   "source": [
    "optimizer = keras.optimizers.SGD(learning_rate=0.1)\n",
    "model.compile(loss='sparse_categorical_crossentropy',\n",
    "              optimizer=optimizer,\n",
    "              metrics=['accuracy'])"
   ]
  },
  {
   "cell_type": "code",
   "execution_count": 57,
   "id": "74164c42-2276-4986-949d-70631215e22f",
   "metadata": {
    "scrolled": true,
    "tags": []
   },
   "outputs": [
    {
     "name": "stdout",
     "output_type": "stream",
     "text": [
      "Epoch 1/30\n",
      "215/215 [==============================] - 1s 5ms/step - loss: 0.2014 - accuracy: 0.9261 - val_loss: 0.2931 - val_accuracy: 0.8934\n",
      "Epoch 2/30\n",
      "215/215 [==============================] - 1s 4ms/step - loss: 0.1965 - accuracy: 0.9277 - val_loss: 0.2857 - val_accuracy: 0.8960\n",
      "Epoch 3/30\n",
      "215/215 [==============================] - 1s 6ms/step - loss: 0.1933 - accuracy: 0.9288 - val_loss: 0.2894 - val_accuracy: 0.8932\n",
      "Epoch 4/30\n",
      "215/215 [==============================] - 1s 6ms/step - loss: 0.1919 - accuracy: 0.9295 - val_loss: 0.2795 - val_accuracy: 0.8986\n",
      "Epoch 5/30\n",
      "215/215 [==============================] - 1s 6ms/step - loss: 0.1871 - accuracy: 0.9327 - val_loss: 0.2888 - val_accuracy: 0.8978\n",
      "Epoch 6/30\n",
      "215/215 [==============================] - 1s 6ms/step - loss: 0.1868 - accuracy: 0.9314 - val_loss: 0.3021 - val_accuracy: 0.8878\n",
      "Epoch 7/30\n",
      "215/215 [==============================] - 1s 6ms/step - loss: 0.1823 - accuracy: 0.9333 - val_loss: 0.2834 - val_accuracy: 0.8994\n",
      "Epoch 8/30\n",
      "215/215 [==============================] - 1s 6ms/step - loss: 0.1826 - accuracy: 0.9331 - val_loss: 0.2902 - val_accuracy: 0.8964\n",
      "Epoch 9/30\n",
      "215/215 [==============================] - 1s 6ms/step - loss: 0.1791 - accuracy: 0.9348 - val_loss: 0.2919 - val_accuracy: 0.8944\n",
      "Epoch 10/30\n",
      "215/215 [==============================] - 1s 6ms/step - loss: 0.1771 - accuracy: 0.9343 - val_loss: 0.2833 - val_accuracy: 0.8978\n",
      "Epoch 11/30\n",
      "215/215 [==============================] - 1s 6ms/step - loss: 0.1702 - accuracy: 0.9379 - val_loss: 0.3172 - val_accuracy: 0.8900\n",
      "Epoch 12/30\n",
      "215/215 [==============================] - 2s 7ms/step - loss: 0.1688 - accuracy: 0.9396 - val_loss: 0.2899 - val_accuracy: 0.8966\n",
      "Epoch 13/30\n",
      "215/215 [==============================] - 1s 7ms/step - loss: 0.1693 - accuracy: 0.9390 - val_loss: 0.2886 - val_accuracy: 0.8978\n",
      "Epoch 14/30\n",
      "215/215 [==============================] - 1s 6ms/step - loss: 0.1657 - accuracy: 0.9395 - val_loss: 0.2905 - val_accuracy: 0.8994\n",
      "Epoch 15/30\n",
      "215/215 [==============================] - 1s 7ms/step - loss: 0.1634 - accuracy: 0.9404 - val_loss: 0.2914 - val_accuracy: 0.8980\n",
      "Epoch 16/30\n",
      "215/215 [==============================] - 1s 6ms/step - loss: 0.1606 - accuracy: 0.9421 - val_loss: 0.2843 - val_accuracy: 0.8988\n",
      "Epoch 17/30\n",
      "215/215 [==============================] - 1s 6ms/step - loss: 0.1599 - accuracy: 0.9418 - val_loss: 0.3053 - val_accuracy: 0.8932\n",
      "Epoch 18/30\n",
      "215/215 [==============================] - 1s 6ms/step - loss: 0.1574 - accuracy: 0.9435 - val_loss: 0.3006 - val_accuracy: 0.8934\n",
      "Epoch 19/30\n",
      "215/215 [==============================] - 1s 6ms/step - loss: 0.1539 - accuracy: 0.9438 - val_loss: 0.3082 - val_accuracy: 0.8924\n",
      "Epoch 20/30\n",
      "215/215 [==============================] - 1s 6ms/step - loss: 0.1541 - accuracy: 0.9432 - val_loss: 0.2866 - val_accuracy: 0.8996\n",
      "Epoch 21/30\n",
      "215/215 [==============================] - 1s 7ms/step - loss: 0.1485 - accuracy: 0.9463 - val_loss: 0.3290 - val_accuracy: 0.8856\n",
      "Epoch 22/30\n",
      "215/215 [==============================] - 1s 6ms/step - loss: 0.1475 - accuracy: 0.9471 - val_loss: 0.2953 - val_accuracy: 0.9016\n",
      "Epoch 23/30\n",
      "215/215 [==============================] - 1s 7ms/step - loss: 0.1470 - accuracy: 0.9470 - val_loss: 0.2970 - val_accuracy: 0.8984\n",
      "Epoch 24/30\n",
      "215/215 [==============================] - 1s 6ms/step - loss: 0.1417 - accuracy: 0.9492 - val_loss: 0.2870 - val_accuracy: 0.8988\n",
      "Epoch 25/30\n",
      "215/215 [==============================] - 1s 7ms/step - loss: 0.1402 - accuracy: 0.9494 - val_loss: 0.3156 - val_accuracy: 0.8944\n",
      "Epoch 26/30\n",
      "215/215 [==============================] - 2s 7ms/step - loss: 0.1403 - accuracy: 0.9506 - val_loss: 0.2977 - val_accuracy: 0.8954\n",
      "Epoch 27/30\n",
      "215/215 [==============================] - 2s 7ms/step - loss: 0.1373 - accuracy: 0.9490 - val_loss: 0.3361 - val_accuracy: 0.8926\n",
      "Epoch 28/30\n",
      "215/215 [==============================] - 2s 7ms/step - loss: 0.1358 - accuracy: 0.9516 - val_loss: 0.2973 - val_accuracy: 0.8982\n",
      "Epoch 29/30\n",
      "215/215 [==============================] - 2s 7ms/step - loss: 0.1306 - accuracy: 0.9532 - val_loss: 0.3054 - val_accuracy: 0.8964\n",
      "Epoch 30/30\n",
      "215/215 [==============================] - 1s 6ms/step - loss: 0.1301 - accuracy: 0.9528 - val_loss: 0.2979 - val_accuracy: 0.8972\n"
     ]
    }
   ],
   "source": [
    "history = model.fit(X_train,y_train,epochs=30,batch_size=256,validation_data=(X_valid,y_valid))"
   ]
  },
  {
   "cell_type": "markdown",
   "id": "4d380e38-6492-43e9-aec4-836fea411c2f",
   "metadata": {},
   "source": [
    "With batch size = 256, we can achieve a model with nearly the same accuracy in significantly shorter time."
   ]
  }
 ],
 "metadata": {
  "kernelspec": {
   "display_name": "TensorFlow",
   "language": "python",
   "name": "tensorflow"
  },
  "language_info": {
   "codemirror_mode": {
    "name": "ipython",
    "version": 3
   },
   "file_extension": ".py",
   "mimetype": "text/x-python",
   "name": "python",
   "nbconvert_exporter": "python",
   "pygments_lexer": "ipython3",
   "version": "3.10.3"
  }
 },
 "nbformat": 4,
 "nbformat_minor": 5
}
